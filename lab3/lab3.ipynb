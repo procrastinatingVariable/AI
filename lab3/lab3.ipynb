{
 "cells": [
  {
   "cell_type": "code",
   "execution_count": 13,
   "metadata": {},
   "outputs": [
    {
     "data": {
      "image/png": "[encoded data removed]",
      "text/plain": [
       "<matplotlib.figure.Figure at 0x7fd2576da780>"
      ]
     },
     "metadata": {},
     "output_type": "display_data"
    }
   ],
   "source": [
    "import numpy as np\n",
    "import skimage.io as skio\n",
    "import skimage.color as skolor\n",
    "import skimage.util as skutil\n",
    "import skimage.filters as skilter\n",
    "import scipy.ndimage as scimage\n",
    "import matplotlib.pyplot as plt\n",
    "\n",
    "def gradient (image, f) :\n",
    "    image = skolor.rgb2gray(image)  \n",
    "    \n",
    "    xgrad = np.empty(image.shape, dtype=np.int16)\n",
    "    ygrad = np.empty(image.shape, dtype=np.int16)\n",
    "    scimage.correlate(image, f, output=xgrad)\n",
    "    f = np.rot90(f, 3)\n",
    "    scimage.correlate(image, f, output=ygrad)\n",
    "    \n",
    "    grad = np.absolute(xgrad) + np.absolute(ygrad)\n",
    "    grad = grad / np.max(grad)\n",
    "    grad = np.around(grad * 255)\n",
    "    grad = grad.astype(np.uint8)\n",
    "\n",
    "    return grad\n",
    "\n",
    "def threshold (image, threshold) :\n",
    "    return (image > threshold).astype(np.uint8) * 255\n",
    "\n",
    "\n",
    "im = skio.imread('cerc.png')\n",
    "# grad = gradient(im, [[0,0,0],[0,-1,1],[0,0,0]])\n",
    "grad = gradient(im, [[-1,0,1],[-2,0,2],[-1,0,1]])\n",
    "plt.imshow(grad, 'gray')\n",
    "plt.show()"
   ]
  },
  {
   "cell_type": "code",
   "execution_count": null,
   "metadata": {
    "collapsed": true
   },
   "outputs": [],
   "source": []
  }
 ],
 "metadata": {
  "kernelspec": {
   "display_name": "Python 3",
   "language": "python",
   "name": "python3"
  },
  "language_info": {
   "codemirror_mode": {
    "name": "ipython",
    "version": 3
   },
   "file_extension": ".py",
   "mimetype": "text/x-python",
   "name": "python",
   "nbconvert_exporter": "python",
   "pygments_lexer": "ipython3",
   "version": "3.6.2"
  }
 },
 "nbformat": 4,
 "nbformat_minor": 2
}
