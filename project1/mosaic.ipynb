{
 "cells": [
  {
   "cell_type": "code",
   "execution_count": 1,
   "metadata": {
    "collapsed": true
   },
   "outputs": [],
   "source": [
    "from PIL import Image\n",
    "from scipy import ndimage\n",
    "from scipy import misc\n",
    "import numpy as np\n",
    "import scipy as sp\n",
    "import matplotlib.pyplot as plt"
   ]
  },
  {
   "cell_type": "code",
   "execution_count": 2,
   "metadata": {
    "collapsed": true,
    "scrolled": true
   },
   "outputs": [],
   "source": [
    "from pathlib import Path\n",
    "from os import path\n",
    "\n",
    "#TODO use k-d tree for faster look-up times\n",
    "'''\n",
    "loads into a nd-array all images from the given directory\n",
    "\n",
    "raises exceptions if the path is not a directory or it doesn't exist\n",
    "\n",
    "dir_path -> path to the directory that contains images\n",
    "\n",
    "returns -> images\n",
    "images -> nd-array (numpy) with the images\n",
    "'''\n",
    "def load_images (dir_path) :\n",
    "    p = Path(dir_path)\n",
    "    \n",
    "    if not p.exists() :\n",
    "        raise FileNotFoundError\n",
    "        \n",
    "    if not p.is_dir() :\n",
    "        raise NotADirectoryError\n",
    "    \n",
    "    files = [str(x) for x in p.iterdir() if not x.is_dir()]\n",
    "    \n",
    "    images = [ndimage.imread(path) for path in files]\n",
    "    images = np.array(images)\n",
    "    \n",
    "    return images"
   ]
  },
  {
   "cell_type": "code",
   "execution_count": 3,
   "metadata": {
    "collapsed": true
   },
   "outputs": [],
   "source": [
    "#TODO what do when the source is grayscale and the tiles are RGB\n",
    "'''\n",
    "creates an empty mosaic \"canvas\" on which the tiles will be placed\n",
    "\n",
    "the dimensions are based on the specified horizontal tile count, the dimensions\n",
    "of the source image and the tiles\n",
    "\n",
    "the canvas will be sized so as no tiles are cut off\n",
    "\n",
    "htcount  -> how many tiles wide should the mosaic be\n",
    "simg     -> the source image\n",
    "tshape   -> the dimensions of the tiles (height, width, channels)\n",
    "\n",
    "returns -> htiles, vtiles, canvas\n",
    "htiles, vtiles -> the size of the mosaic in number of tiles\n",
    "canvas         -> the original image resized to the mosaic shape\n",
    "'''\n",
    "def mosaic_shape (htcount, simg, tshape) :\n",
    "    if type(htcount) != int :\n",
    "        raise TypeError('htcount not an int')\n",
    "    if htcount < 0 :\n",
    "        raise ValueError('htcount negative integer')\n",
    "    if type(tshape) != tuple :\n",
    "        raise TypeError('tshape not a tuple')\n",
    "    if type(simg) != np.ndarray :\n",
    "        raise TypeError('source image not a ndarray')\n",
    "    \n",
    "    imheight = simg.shape[0]\n",
    "    imwidth = simg.shape[1]\n",
    "    aspect_ratio = imheight / imwidth\n",
    "    \n",
    "    theight = tshape[0] \n",
    "    twidth = tshape[1]\n",
    "        \n",
    "    canvasw = htcount * twidth;\n",
    "    canvash = aspect_ratio * canvasw\n",
    "    canvash = round(canvash / theight) * theight # closest multiple of theight\n",
    "    \n",
    "    vtcount = canvash / theight\n",
    "    \n",
    "    canvas = misc.imresize(simg, (canvash, canvasw))\n",
    "    \n",
    "    htiles = htcount\n",
    "    vtiles = vtcount\n",
    "    \n",
    "    return int(htiles), int(vtiles), canvas"
   ]
  },
  {
   "cell_type": "code",
   "execution_count": 50,
   "metadata": {
    "scrolled": true
   },
   "outputs": [
    {
     "name": "stdout",
     "output_type": "stream",
     "text": [
      "280 400\n",
      "10 10\n",
      "28 40\n"
     ]
    },
    {
     "data": {
      "image/png": "[encoded data removed]",
      "text/plain": [
       "<matplotlib.figure.Figure at 0x7f0574161b70>"
      ]
     },
     "metadata": {},
     "output_type": "display_data"
    }
   ],
   "source": [
    "'''\n",
    "computes the average color / intensity of the image\n",
    "\n",
    "image -> source image\n",
    "\n",
    "returns -> mean\n",
    "mean -> the average color/intesity (either a tuple of size 3 or a constant)\n",
    "'''\n",
    "def immean (image) :\n",
    "    if type(image) != np.ndarray :\n",
    "        raise TypeError('image is not ndarray')\n",
    "    \n",
    "    rank = len(image.shape)\n",
    "    \n",
    "    if rank < 3 :\n",
    "        mean = int(round(np.mean(image)))\n",
    "    else :\n",
    "        mean = []\n",
    "        for band in range(3) : \n",
    "            mean_for_band = int(round(np.mean(image[:,:,band])))\n",
    "            mean.append(mean_for_band)\n",
    "    \n",
    "    return mean\n",
    "\n",
    "\n",
    "im = ndimage.imread('./data/imaginiTest/ferrari.jpeg')\n",
    "tile = ndimage.imread('./data/colectie/1.png')\n",
    "htiles, vtiles, canvas = mosaic_shape(10, im, tile.shape)\n",
    "\n",
    "imheight = canvas.shape[0]\n",
    "imwidth = canvas.shape[1]\n",
    "\n",
    "clip_width = tile.shape[1]\n",
    "clip_height = tile.shape[0]\n",
    "\n",
    "print(imheight, imwidth)\n",
    "print(vtiles, htiles)\n",
    "print(clip_height, clip_width)\n",
    "\n",
    "for i in range(vtiles) :\n",
    "    for j in range(htiles) :\n",
    "        start_vslice = i * clip_height\n",
    "        end_vslice = start_vslice + clip_height\n",
    "        vslice = slice(start_vslice, end_vslice)\n",
    "        \n",
    "        start_hslice = j * clip_width\n",
    "        end_hslice = start_hslice + clip_width\n",
    "        hslice = slice(start_hslice, end_hslice)\n",
    "        \n",
    "        imclip = canvas[vslice, hslice]\n",
    "        \n",
    "        clip_mean = immean(imclip)\n",
    "        \n",
    "        for band in range(3) : \n",
    "            imclip[:,:,band] = clip_mean[band]\n",
    "    \n",
    "plt.imshow(canvas)\n",
    "plt.show()"
   ]
  },
  {
   "cell_type": "code",
   "execution_count": 45,
   "metadata": {},
   "outputs": [
    {
     "name": "stdout",
     "output_type": "stream",
     "text": [
      "[96, 94, 96]\n"
     ]
    }
   ],
   "source": [
    "im = tile\n",
    "mean = immean(im)\n",
    "b = np.empty(im.shape)\n",
    "for i in range(3) :\n",
    "    b[:,:,i] = mean[i]\n",
    "print(mean)"
   ]
  }
 ],
 "metadata": {
  "kernelspec": {
   "display_name": "Python 3",
   "language": "python",
   "name": "python3"
  },
  "language_info": {
   "codemirror_mode": {
    "name": "ipython",
    "version": 3
   },
   "file_extension": ".py",
   "mimetype": "text/x-python",
   "name": "python",
   "nbconvert_exporter": "python",
   "pygments_lexer": "ipython3",
   "version": "3.6.2"
  }
 },
 "nbformat": 4,
 "nbformat_minor": 2
}
